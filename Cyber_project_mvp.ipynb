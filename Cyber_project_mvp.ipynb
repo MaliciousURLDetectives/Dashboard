{
 "cells": [
  {
   "cell_type": "code",
   "execution_count": 66,
   "metadata": {},
   "outputs": [],
   "source": [
    "#importing libraries\n",
    "import pandas as pd\n",
    "import numpy as np\n",
    "import os \n",
    "import seaborn as sns\n",
    "sns.set()\n",
    "import matplotlib.pyplot as plt\n",
    "%matplotlib inline\n",
    "\n",
    "from sklearn.feature_extraction.text import TfidfVectorizer\n",
    "from sklearn.model_selection import train_test_split, cross_val_score, GridSearchCV, RandomizedSearchCV\n",
    "from sklearn import tree\n",
    "from sklearn.tree import DecisionTreeClassifier \n",
    "from sklearn.ensemble import RandomForestClassifier\n",
    "from sklearn.ensemble import GradientBoostingClassifier\n",
    "from sklearn.metrics import mean_squared_error, r2_score,accuracy_score, precision_score, recall_score, confusion_matrix, classification_report, roc_auc_score, f1_score\n"
   ]
  },
  {
   "cell_type": "code",
   "execution_count": 67,
   "metadata": {},
   "outputs": [],
   "source": [
    "#loading in dataset\n",
    "filename = os.path.join(os.getcwd(), \"file.csv\")\n",
    "df = pd.read_csv(filename, header=0)"
   ]
  },
  {
   "cell_type": "code",
   "execution_count": 68,
   "metadata": {},
   "outputs": [
    {
     "data": {
      "text/html": [
       "<div>\n",
       "<style scoped>\n",
       "    .dataframe tbody tr th:only-of-type {\n",
       "        vertical-align: middle;\n",
       "    }\n",
       "\n",
       "    .dataframe tbody tr th {\n",
       "        vertical-align: top;\n",
       "    }\n",
       "\n",
       "    .dataframe thead th {\n",
       "        text-align: right;\n",
       "    }\n",
       "</style>\n",
       "<table border=\"1\" class=\"dataframe\">\n",
       "  <thead>\n",
       "    <tr style=\"text-align: right;\">\n",
       "      <th></th>\n",
       "      <th>Unnamed: 0</th>\n",
       "      <th>url_length</th>\n",
       "      <th>content_length</th>\n",
       "      <th>mal</th>\n",
       "      <th>charsets</th>\n",
       "      <th>server</th>\n",
       "      <th>special_chars</th>\n",
       "    </tr>\n",
       "  </thead>\n",
       "  <tbody>\n",
       "    <tr>\n",
       "      <th>0</th>\n",
       "      <td>0</td>\n",
       "      <td>16</td>\n",
       "      <td>-1.0</td>\n",
       "      <td>1</td>\n",
       "      <td>-1</td>\n",
       "      <td>-1</td>\n",
       "      <td>3</td>\n",
       "    </tr>\n",
       "    <tr>\n",
       "      <th>1</th>\n",
       "      <td>1</td>\n",
       "      <td>35</td>\n",
       "      <td>-1.0</td>\n",
       "      <td>0</td>\n",
       "      <td>-1</td>\n",
       "      <td>-1</td>\n",
       "      <td>5</td>\n",
       "    </tr>\n",
       "    <tr>\n",
       "      <th>2</th>\n",
       "      <td>2</td>\n",
       "      <td>31</td>\n",
       "      <td>-1.0</td>\n",
       "      <td>0</td>\n",
       "      <td>-1</td>\n",
       "      <td>-1</td>\n",
       "      <td>5</td>\n",
       "    </tr>\n",
       "    <tr>\n",
       "      <th>3</th>\n",
       "      <td>3</td>\n",
       "      <td>88</td>\n",
       "      <td>-1.0</td>\n",
       "      <td>1</td>\n",
       "      <td>-1</td>\n",
       "      <td>-1</td>\n",
       "      <td>18</td>\n",
       "    </tr>\n",
       "    <tr>\n",
       "      <th>4</th>\n",
       "      <td>4</td>\n",
       "      <td>235</td>\n",
       "      <td>-1.0</td>\n",
       "      <td>1</td>\n",
       "      <td>-1</td>\n",
       "      <td>-1</td>\n",
       "      <td>14</td>\n",
       "    </tr>\n",
       "    <tr>\n",
       "      <th>5</th>\n",
       "      <td>5</td>\n",
       "      <td>118</td>\n",
       "      <td>-1.0</td>\n",
       "      <td>0</td>\n",
       "      <td>-1</td>\n",
       "      <td>-1</td>\n",
       "      <td>24</td>\n",
       "    </tr>\n",
       "    <tr>\n",
       "      <th>6</th>\n",
       "      <td>6</td>\n",
       "      <td>45</td>\n",
       "      <td>-1.0</td>\n",
       "      <td>0</td>\n",
       "      <td>-1</td>\n",
       "      <td>-1</td>\n",
       "      <td>10</td>\n",
       "    </tr>\n",
       "    <tr>\n",
       "      <th>7</th>\n",
       "      <td>7</td>\n",
       "      <td>46</td>\n",
       "      <td>-1.0</td>\n",
       "      <td>0</td>\n",
       "      <td>-1</td>\n",
       "      <td>-1</td>\n",
       "      <td>6</td>\n",
       "    </tr>\n",
       "    <tr>\n",
       "      <th>8</th>\n",
       "      <td>8</td>\n",
       "      <td>44</td>\n",
       "      <td>-1.0</td>\n",
       "      <td>1</td>\n",
       "      <td>-1</td>\n",
       "      <td>-1</td>\n",
       "      <td>7</td>\n",
       "    </tr>\n",
       "    <tr>\n",
       "      <th>9</th>\n",
       "      <td>9</td>\n",
       "      <td>45</td>\n",
       "      <td>-1.0</td>\n",
       "      <td>0</td>\n",
       "      <td>-1</td>\n",
       "      <td>-1</td>\n",
       "      <td>7</td>\n",
       "    </tr>\n",
       "  </tbody>\n",
       "</table>\n",
       "</div>"
      ],
      "text/plain": [
       "   Unnamed: 0  url_length  content_length  mal charsets server  special_chars\n",
       "0           0          16            -1.0    1       -1     -1              3\n",
       "1           1          35            -1.0    0       -1     -1              5\n",
       "2           2          31            -1.0    0       -1     -1              5\n",
       "3           3          88            -1.0    1       -1     -1             18\n",
       "4           4         235            -1.0    1       -1     -1             14\n",
       "5           5         118            -1.0    0       -1     -1             24\n",
       "6           6          45            -1.0    0       -1     -1             10\n",
       "7           7          46            -1.0    0       -1     -1              6\n",
       "8           8          44            -1.0    1       -1     -1              7\n",
       "9           9          45            -1.0    0       -1     -1              7"
      ]
     },
     "execution_count": 68,
     "metadata": {},
     "output_type": "execute_result"
    }
   ],
   "source": [
    "#viewing dataset\n",
    "df.head(10)"
   ]
  },
  {
   "cell_type": "code",
   "execution_count": 69,
   "metadata": {},
   "outputs": [
    {
     "data": {
      "text/plain": [
       "Unnamed: 0         0\n",
       "url_length         0\n",
       "content_length    71\n",
       "mal                0\n",
       "charsets           0\n",
       "server            31\n",
       "special_chars      0\n",
       "dtype: int64"
      ]
     },
     "execution_count": 69,
     "metadata": {},
     "output_type": "execute_result"
    }
   ],
   "source": [
    "#null values?\n",
    "df.isnull().sum()"
   ]
  },
  {
   "cell_type": "code",
   "execution_count": 70,
   "metadata": {},
   "outputs": [
    {
     "data": {
      "text/plain": [
       "0"
      ]
     },
     "execution_count": 70,
     "metadata": {},
     "output_type": "execute_result"
    }
   ],
   "source": [
    "#duplicates?\n",
    "df.duplicated().sum()"
   ]
  },
  {
   "cell_type": "code",
   "execution_count": 71,
   "metadata": {},
   "outputs": [
    {
     "data": {
      "text/plain": [
       "Unnamed: 0          int64\n",
       "url_length          int64\n",
       "content_length    float64\n",
       "mal                 int64\n",
       "charsets           object\n",
       "server             object\n",
       "special_chars       int64\n",
       "dtype: object"
      ]
     },
     "execution_count": 71,
     "metadata": {},
     "output_type": "execute_result"
    }
   ],
   "source": [
    "#data types\n",
    "df.dtypes"
   ]
  },
  {
   "cell_type": "code",
   "execution_count": 72,
   "metadata": {},
   "outputs": [
    {
     "data": {
      "text/plain": [
       "(1800, 7)"
      ]
     },
     "execution_count": 72,
     "metadata": {},
     "output_type": "execute_result"
    }
   ],
   "source": [
    "df.shape"
   ]
  },
  {
   "cell_type": "code",
   "execution_count": 73,
   "metadata": {},
   "outputs": [
    {
     "data": {
      "text/plain": [
       "Unnamed: 0        1800\n",
       "url_length         177\n",
       "content_length      50\n",
       "mal                  2\n",
       "charsets             8\n",
       "server              25\n",
       "special_chars       42\n",
       "dtype: int64"
      ]
     },
     "execution_count": 73,
     "metadata": {},
     "output_type": "execute_result"
    }
   ],
   "source": [
    "#unique values\n",
    "df.nunique()"
   ]
  },
  {
   "cell_type": "code",
   "execution_count": 74,
   "metadata": {},
   "outputs": [],
   "source": [
    "#filling null values\n",
    "df['content_length'] = df['content_length'].fillna(0)\n",
    "df['server'] = df['server'].fillna(0)"
   ]
  },
  {
   "cell_type": "code",
   "execution_count": 75,
   "metadata": {},
   "outputs": [
    {
     "data": {
      "text/plain": [
       "Unnamed: 0        0\n",
       "url_length        0\n",
       "content_length    0\n",
       "mal               0\n",
       "charsets          0\n",
       "server            0\n",
       "special_chars     0\n",
       "dtype: int64"
      ]
     },
     "execution_count": 75,
     "metadata": {},
     "output_type": "execute_result"
    }
   ],
   "source": [
    "#sanity check\n",
    "df.isnull().sum()"
   ]
  },
  {
   "cell_type": "code",
   "execution_count": 76,
   "metadata": {},
   "outputs": [],
   "source": [
    "#dropping columns and one hot encoding\n",
    "#Try normailzation and tokenization for URL instead of just droppping(note to self)\n",
    "df = pd.get_dummies(df, columns=['server'], drop_first=True)\n",
    "df = pd.get_dummies(df, columns=['charsets'], drop_first=True)"
   ]
  },
  {
   "cell_type": "code",
   "execution_count": 77,
   "metadata": {},
   "outputs": [
    {
     "data": {
      "text/plain": [
       "Unnamed: 0                         int64\n",
       "url_length                         int64\n",
       "content_length                   float64\n",
       "mal                                int64\n",
       "special_chars                      int64\n",
       "server_-1                           bool\n",
       "server_ATS                          bool\n",
       "server_AmazonS3                     bool\n",
       "server_Apache                       bool\n",
       "server_Apache/2                     bool\n",
       "server_Apache/2.4.52 (Ubuntu)       bool\n",
       "server_Apache/2.4.56 (Debian)       bool\n",
       "server_Apache/2.4.6                 bool\n",
       "server_GSE                          bool\n",
       "server_LiteSpeed                    bool\n",
       "server_MerlinCDN                    bool\n",
       "server_Microsoft-IIS/8.5            bool\n",
       "server_Universe                     bool\n",
       "server_cloudflare                   bool\n",
       "server_ddos-guard                   bool\n",
       "server_gogogadgeto-server           bool\n",
       "server_gunicorn/0.17.2              bool\n",
       "server_nginx                        bool\n",
       "server_nginx/1.14.0 (Ubuntu)        bool\n",
       "server_nginx/1.14.1                 bool\n",
       "server_nginx/1.18.0                 bool\n",
       "server_o2switch-PowerBoost-v3       bool\n",
       "server_openresty                    bool\n",
       "server_openresty/1.21.4.1           bool\n",
       "server_tsa_b                        bool\n",
       "charsets_['iso-8859-15']            bool\n",
       "charsets_['ms949']                  bool\n",
       "charsets_['none']                   bool\n",
       "charsets_['shift_jis']              bool\n",
       "charsets_['utf-8']                  bool\n",
       "charsets_['windows-1251']           bool\n",
       "charsets_[None]                     bool\n",
       "dtype: object"
      ]
     },
     "execution_count": 77,
     "metadata": {},
     "output_type": "execute_result"
    }
   ],
   "source": [
    "#sanity check\n",
    "df.dtypes"
   ]
  },
  {
   "cell_type": "code",
   "execution_count": 78,
   "metadata": {},
   "outputs": [],
   "source": [
    "#creating X and y; now train test split\n",
    "y = df['mal'] \n",
    "X = df.drop(columns = 'mal', axis=1)\n",
    "\n",
    "X_train, X_test, y_train, y_test = train_test_split(X, y, test_size=0.30, random_state=1234)"
   ]
  },
  {
   "cell_type": "code",
   "execution_count": 79,
   "metadata": {},
   "outputs": [
    {
     "name": "stdout",
     "output_type": "stream",
     "text": [
      "Mean squared error: 0.445138\n",
      "R squared: 0.042680\n",
      "Accuracy Score: 0.801852\n",
      "Precision Score: 0.714286\n",
      "Recall Score: 0.537975\n",
      "F1 Score: 0.613718\n",
      "AUC Score: 0.831500\n",
      "              precision    recall  f1-score   support\n",
      "\n",
      "           0       0.83      0.91      0.87       382\n",
      "           1       0.71      0.54      0.61       158\n",
      "\n",
      "    accuracy                           0.80       540\n",
      "   macro avg       0.77      0.72      0.74       540\n",
      "weighted avg       0.79      0.80      0.79       540\n",
      "\n"
     ]
    }
   ],
   "source": [
    "# Creating model\n",
    "rf_model = RandomForestClassifier()\n",
    "\n",
    "# Fitting the model \n",
    "rf_model.fit(X_train, y_train)\n",
    "\n",
    "# Predicting values for test dataset\n",
    "y_pred = rf_model.predict(X_test)\n",
    "\n",
    "# Evaluating the model\n",
    "rf_rmse = mean_squared_error(y_test, y_pred, squared=False)\n",
    "print(\"Mean squared error: %f\" % rf_rmse)\n",
    "\n",
    "rf_r2 = r2_score(y_test, y_pred)\n",
    "print(\"R squared: %f\" % rf_r2)\n",
    "\n",
    "accuracy = accuracy_score(y_true=y_test, y_pred=y_pred)\n",
    "print(\"Accuracy Score: %f\" % accuracy)\n",
    "\n",
    "precision = precision_score(y_true=y_test, y_pred=y_pred)\n",
    "print(\"Precision Score: %f\" % precision)\n",
    "\n",
    "recall = recall_score(y_true=y_test, y_pred=y_pred)\n",
    "print(\"Recall Score: %f\" % recall)\n",
    "\n",
    "f1 = f1_score(y_true=y_test, y_pred=y_pred)\n",
    "print('F1 Score: %f' % f1)\n",
    "\n",
    "# predicted probabilities\n",
    "y_pred_proba = rf_model.predict_proba(X_test)\n",
    "\n",
    "# only true values\n",
    "y_pred_proba = y_pred_proba[:,1]\n",
    "\n",
    "# Compute auc score\n",
    "auc = roc_auc_score(y_true=y_test, y_score=y_pred_proba)\n",
    "print('AUC Score: %f' % auc)\n",
    "\n",
    "\n",
    "report = classification_report(y_test, y_pred, zero_division=1)\n",
    "print(report)"
   ]
  }
 ],
 "metadata": {
  "kernelspec": {
   "display_name": "base",
   "language": "python",
   "name": "python3"
  },
  "language_info": {
   "codemirror_mode": {
    "name": "ipython",
    "version": 3
   },
   "file_extension": ".py",
   "mimetype": "text/x-python",
   "name": "python",
   "nbconvert_exporter": "python",
   "pygments_lexer": "ipython3",
   "version": "3.11.5"
  }
 },
 "nbformat": 4,
 "nbformat_minor": 2
}
